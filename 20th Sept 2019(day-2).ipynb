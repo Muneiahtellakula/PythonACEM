{
 "cells": [
  {
   "cell_type": "markdown",
   "metadata": {},
   "source": [
    " # Operators \n",
    "     1. AO\n",
    "     +, -, *, /, %, //, **"
   ]
  },
  {
   "cell_type": "code",
   "execution_count": 4,
   "metadata": {},
   "outputs": [
    {
     "data": {
      "text/plain": [
       "64"
      ]
     },
     "execution_count": 4,
     "metadata": {},
     "output_type": "execute_result"
    }
   ],
   "source": [
    "55+2\n",
    "77-44\n",
    "4**3"
   ]
  },
  {
   "cell_type": "code",
   "execution_count": 6,
   "metadata": {},
   "outputs": [
    {
     "data": {
      "text/plain": [
       "12"
      ]
     },
     "execution_count": 6,
     "metadata": {},
     "output_type": "execute_result"
    }
   ],
   "source": [
    "24//2"
   ]
  },
  {
   "cell_type": "code",
   "execution_count": 9,
   "metadata": {},
   "outputs": [
    {
     "data": {
      "text/plain": [
       "33"
      ]
     },
     "execution_count": 9,
     "metadata": {},
     "output_type": "execute_result"
    }
   ],
   "source": [
    "4+33-4*33%2**4"
   ]
  },
  {
   "cell_type": "markdown",
   "metadata": {},
   "source": [
    "# ASo\n",
    "\n",
    "=, +=, -=, /=, %=, *=, **="
   ]
  },
  {
   "cell_type": "code",
   "execution_count": 20,
   "metadata": {},
   "outputs": [],
   "source": [
    "a=10\n",
    "a -= 100"
   ]
  },
  {
   "cell_type": "code",
   "execution_count": 23,
   "metadata": {},
   "outputs": [
    {
     "data": {
      "text/plain": [
       "400"
      ]
     },
     "execution_count": 23,
     "metadata": {},
     "output_type": "execute_result"
    }
   ],
   "source": [
    "a=20\n",
    "a *= 20\n",
    "a"
   ]
  },
  {
   "cell_type": "code",
   "execution_count": 24,
   "metadata": {},
   "outputs": [
    {
     "data": {
      "text/plain": [
       "400"
      ]
     },
     "execution_count": 24,
     "metadata": {},
     "output_type": "execute_result"
    }
   ],
   "source": [
    "a"
   ]
  },
  {
   "cell_type": "code",
   "execution_count": 26,
   "metadata": {},
   "outputs": [
    {
     "data": {
      "text/plain": [
       "360000"
      ]
     },
     "execution_count": 26,
     "metadata": {},
     "output_type": "execute_result"
    }
   ],
   "source": [
    "a*=30"
   ]
  },
  {
   "cell_type": "markdown",
   "metadata": {},
   "source": [
    "# C o\n",
    " \n",
    " <, >, >=, <=, !=, =="
   ]
  },
  {
   "cell_type": "code",
   "execution_count": 31,
   "metadata": {},
   "outputs": [
    {
     "data": {
      "text/plain": [
       "False"
      ]
     },
     "execution_count": 31,
     "metadata": {},
     "output_type": "execute_result"
    }
   ],
   "source": [
    "5<3\n",
    "5>3\n",
    "5<=5\n",
    "5>=16"
   ]
  },
  {
   "cell_type": "markdown",
   "metadata": {},
   "source": [
    "# l o\n",
    "\n",
    "and , or, not"
   ]
  },
  {
   "cell_type": "code",
   "execution_count": 33,
   "metadata": {},
   "outputs": [
    {
     "data": {
      "text/plain": [
       "True"
      ]
     },
     "execution_count": 33,
     "metadata": {},
     "output_type": "execute_result"
    }
   ],
   "source": [
    "3<5 and 6>5"
   ]
  },
  {
   "cell_type": "code",
   "execution_count": 35,
   "metadata": {},
   "outputs": [
    {
     "data": {
      "text/plain": [
       "True"
      ]
     },
     "execution_count": 35,
     "metadata": {},
     "output_type": "execute_result"
    }
   ],
   "source": [
    "6==5 or 9<10"
   ]
  },
  {
   "cell_type": "code",
   "execution_count": 36,
   "metadata": {},
   "outputs": [
    {
     "data": {
      "text/plain": [
       "False"
      ]
     },
     "execution_count": 36,
     "metadata": {},
     "output_type": "execute_result"
    }
   ],
   "source": [
    "not 5"
   ]
  },
  {
   "cell_type": "markdown",
   "metadata": {},
   "source": [
    "4 | 5\n",
    "8  4 2 1\n",
    "0  1 0 0\n",
    "0  1 0 1\n",
    "\n",
    "0  1 0 1===>5\n",
    "\n"
   ]
  },
  {
   "cell_type": "code",
   "execution_count": 37,
   "metadata": {},
   "outputs": [
    {
     "data": {
      "text/plain": [
       "5"
      ]
     },
     "execution_count": 37,
     "metadata": {},
     "output_type": "execute_result"
    }
   ],
   "source": [
    "4|5"
   ]
  },
  {
   "cell_type": "code",
   "execution_count": 38,
   "metadata": {},
   "outputs": [
    {
     "data": {
      "text/plain": [
       "14"
      ]
     },
     "execution_count": 38,
     "metadata": {},
     "output_type": "execute_result"
    }
   ],
   "source": [
    "6 | 12"
   ]
  },
  {
   "cell_type": "markdown",
   "metadata": {},
   "source": [
    "3 & 2\n",
    "\n",
    "0 0 1 1\n",
    "0 0 1 0\n",
    "--------\n",
    "0 0 1 0====>2"
   ]
  },
  {
   "cell_type": "code",
   "execution_count": 39,
   "metadata": {},
   "outputs": [
    {
     "data": {
      "text/plain": [
       "2"
      ]
     },
     "execution_count": 39,
     "metadata": {},
     "output_type": "execute_result"
    }
   ],
   "source": [
    "3&2"
   ]
  },
  {
   "cell_type": "code",
   "execution_count": 40,
   "metadata": {},
   "outputs": [
    {
     "data": {
      "text/plain": [
       "2"
      ]
     },
     "execution_count": 40,
     "metadata": {},
     "output_type": "execute_result"
    }
   ],
   "source": [
    "18 & 3"
   ]
  },
  {
   "cell_type": "code",
   "execution_count": 41,
   "metadata": {},
   "outputs": [
    {
     "data": {
      "text/plain": [
       "3"
      ]
     },
     "execution_count": 41,
     "metadata": {},
     "output_type": "execute_result"
    }
   ],
   "source": [
    "5 ^ 6\n",
    "\n"
   ]
  },
  {
   "cell_type": "markdown",
   "metadata": {},
   "source": [
    "## ls \n",
    "\n",
    "\n",
    "\n",
    "3 << 1\n",
    "\n",
    "0011\n",
    "\n"
   ]
  },
  {
   "cell_type": "code",
   "execution_count": 42,
   "metadata": {},
   "outputs": [
    {
     "data": {
      "text/plain": [
       "24"
      ]
     },
     "execution_count": 42,
     "metadata": {},
     "output_type": "execute_result"
    }
   ],
   "source": [
    "3<<3"
   ]
  },
  {
   "cell_type": "markdown",
   "metadata": {},
   "source": [
    "3<<3\n",
    "\n",
    "64 32 16 8 4 2 1\n",
    "0  0  0  0 0 1 1\n",
    "0  0  0  0 1 1 0 === 6\n",
    "0  0  0  1 1 0 0 ===12\n",
    "0  0  1  1 0 0 0 ===24\n",
    "\n"
   ]
  },
  {
   "cell_type": "code",
   "execution_count": 44,
   "metadata": {},
   "outputs": [
    {
     "data": {
      "text/plain": [
       "2"
      ]
     },
     "execution_count": 44,
     "metadata": {},
     "output_type": "execute_result"
    }
   ],
   "source": [
    "18 >> 3"
   ]
  },
  {
   "cell_type": "markdown",
   "metadata": {},
   "source": [
    "## I O \n",
    "\n",
    "is, is not\n"
   ]
  },
  {
   "cell_type": "code",
   "execution_count": 47,
   "metadata": {},
   "outputs": [
    {
     "data": {
      "text/plain": [
       "False"
      ]
     },
     "execution_count": 47,
     "metadata": {},
     "output_type": "execute_result"
    }
   ],
   "source": [
    "x= 5\n",
    "x is not 5"
   ]
  },
  {
   "cell_type": "markdown",
   "metadata": {},
   "source": [
    "## m o\n",
    "\n",
    "in not in"
   ]
  },
  {
   "cell_type": "code",
   "execution_count": 50,
   "metadata": {},
   "outputs": [
    {
     "data": {
      "text/plain": [
       "False"
      ]
     },
     "execution_count": 50,
     "metadata": {},
     "output_type": "execute_result"
    }
   ],
   "source": [
    "a= [7,49,0,3,5]\n",
    "49 not in a"
   ]
  },
  {
   "cell_type": "markdown",
   "metadata": {},
   "source": [
    "#  Cs\n",
    "\n",
    "if , elif, else\n",
    "\n",
    "\n",
    "## Syntax\n",
    "\n",
    "\n",
    "if Condition  :\n",
    "    Statement\n",
    "elif condition :\n",
    "    Statement\n",
    "else:\n",
    "\n"
   ]
  },
  {
   "cell_type": "code",
   "execution_count": 51,
   "metadata": {},
   "outputs": [
    {
     "name": "stdout",
     "output_type": "stream",
     "text": [
      "Enter valuehai\n"
     ]
    }
   ],
   "source": [
    "a = input(\"Enter value\")"
   ]
  },
  {
   "cell_type": "code",
   "execution_count": 52,
   "metadata": {},
   "outputs": [
    {
     "data": {
      "text/plain": [
       "'hai'"
      ]
     },
     "execution_count": 52,
     "metadata": {},
     "output_type": "execute_result"
    }
   ],
   "source": [
    "a"
   ]
  },
  {
   "cell_type": "code",
   "execution_count": null,
   "metadata": {},
   "outputs": [],
   "source": [
    "x = int(input(\"Enter College Name\"))\n",
    "print(type(x))"
   ]
  },
  {
   "cell_type": "markdown",
   "metadata": {},
   "source": [
    "# Statements\n",
    " * two types\n",
    " 1. Conditional statements\n",
    "     - if \n",
    "     - if else\n",
    "     - elif\n",
    " 2. Control Statements\n",
    "     - For\n",
    "     - while\n",
    "         - break\n",
    "         - continoue\n",
    "         \n",
    " "
   ]
  },
  {
   "cell_type": "code",
   "execution_count": 69,
   "metadata": {},
   "outputs": [
    {
     "name": "stdout",
     "output_type": "stream",
     "text": [
      "enter value\n"
     ]
    },
    {
     "ename": "ValueError",
     "evalue": "invalid literal for int() with base 10: ''",
     "output_type": "error",
     "traceback": [
      "\u001b[1;31m---------------------------------------------------------------------------\u001b[0m",
      "\u001b[1;31mValueError\u001b[0m                                Traceback (most recent call last)",
      "\u001b[1;32m<ipython-input-69-50e98f930f14>\u001b[0m in \u001b[0;36m<module>\u001b[1;34m\u001b[0m\n\u001b[0;32m      1\u001b[0m \u001b[1;31m#for checking contions\u001b[0m\u001b[1;33m\u001b[0m\u001b[1;33m\u001b[0m\u001b[1;33m\u001b[0m\u001b[0m\n\u001b[0;32m      2\u001b[0m \u001b[1;31m#a>0-->\u001b[0m\u001b[1;33m\u001b[0m\u001b[1;33m\u001b[0m\u001b[1;33m\u001b[0m\u001b[0m\n\u001b[1;32m----> 3\u001b[1;33m \u001b[0ma\u001b[0m\u001b[1;33m=\u001b[0m\u001b[0mint\u001b[0m\u001b[1;33m(\u001b[0m\u001b[0minput\u001b[0m\u001b[1;33m(\u001b[0m\u001b[1;34m\"enter value\"\u001b[0m\u001b[1;33m)\u001b[0m\u001b[1;33m)\u001b[0m\u001b[1;33m\u001b[0m\u001b[1;33m\u001b[0m\u001b[0m\n\u001b[0m\u001b[0;32m      4\u001b[0m \u001b[1;31m#a=6\u001b[0m\u001b[1;33m\u001b[0m\u001b[1;33m\u001b[0m\u001b[1;33m\u001b[0m\u001b[0m\n\u001b[0;32m      5\u001b[0m \u001b[1;32mif\u001b[0m \u001b[0ma\u001b[0m\u001b[1;33m>\u001b[0m\u001b[1;36m0\u001b[0m\u001b[1;33m:\u001b[0m\u001b[1;33m\u001b[0m\u001b[1;33m\u001b[0m\u001b[0m\n",
      "\u001b[1;31mValueError\u001b[0m: invalid literal for int() with base 10: ''"
     ]
    }
   ],
   "source": [
    "#for checking contions\n",
    "#a>0-->\n",
    "a=int(input(\"enter value\"))\n",
    "#a=6\n",
    "if a>0:\n",
    "    print(True)"
   ]
  },
  {
   "cell_type": "code",
   "execution_count": 65,
   "metadata": {},
   "outputs": [
    {
     "name": "stdout",
     "output_type": "stream",
     "text": [
      " No\n"
     ]
    }
   ],
   "source": [
    "#if else\n",
    "\n",
    "if a>=0:\n",
    "    print(\"Yes\")\n",
    "else:\n",
    "    print(\" No\")\n",
    "    "
   ]
  },
  {
   "cell_type": "code",
   "execution_count": 70,
   "metadata": {},
   "outputs": [
    {
     "ename": "SyntaxError",
     "evalue": "invalid syntax (<ipython-input-70-c39887dfe780>, line 5)",
     "output_type": "error",
     "traceback": [
      "\u001b[1;36m  File \u001b[1;32m\"<ipython-input-70-c39887dfe780>\"\u001b[1;36m, line \u001b[1;32m5\u001b[0m\n\u001b[1;33m    otherwise find the cube of that number\u001b[0m\n\u001b[1;37m                 ^\u001b[0m\n\u001b[1;31mSyntaxError\u001b[0m\u001b[1;31m:\u001b[0m invalid syntax\n"
     ]
    }
   ],
   "source": [
    "#Task -1 :for checking user creditials \n",
    "    #un='muni'\n",
    "    #pwd=123\n",
    "#Task -2:if you enter the user input is 'even number ' \n",
    "    #then perform squre root of that number \n",
    "    #otherwise find the cube of that number\n",
    "#Task 3:Check if you elible for VOTE or not\n"
   ]
  },
  {
   "cell_type": "code",
   "execution_count": 74,
   "metadata": {},
   "outputs": [
    {
     "name": "stdout",
     "output_type": "stream",
     "text": [
      "Enter the user name for checking..muni\n",
      "Enter the password ..123\n",
      "muni  is Invalid..\n"
     ]
    }
   ],
   "source": [
    "#Task -1 :for checking user creditials \n",
    "    #un='muni'\n",
    "    #pwd=123\n",
    "un='muni'\n",
    "pwd=123\n",
    "username=input(\"Enter the user name for checking..\")\n",
    "password=int(input(\"Enter the password ..\"))\n",
    "if un==username and pwd==password:\n",
    "    print(\"welcome to ..\",username)\n",
    "else:\n",
    "    print(username,\" is Invalid..\")"
   ]
  },
  {
   "cell_type": "code",
   "execution_count": 85,
   "metadata": {},
   "outputs": [
    {
     "name": "stdout",
     "output_type": "stream",
     "text": [
      "Enter the user name for checking..muni\n",
      "Enter the password ..123\n",
      "Welcome .. muni\n"
     ]
    }
   ],
   "source": [
    "\n",
    "un='muni'\n",
    "pwd=123\n",
    "username=input(\"Enter the user name for checking..\")\n",
    "\n",
    "if un==username:\n",
    "    password=int(input(\"Enter the password ..\"))\n",
    "    if pwd==password:\n",
    "        print(\"Welcome ..\",username)\n",
    "    else:\n",
    "        print(\"Invalid \",password)\n",
    "else:\n",
    "    print(\"Invalid \",username)\n",
    "    \n",
    "    "
   ]
  },
  {
   "cell_type": "code",
   "execution_count": 86,
   "metadata": {},
   "outputs": [
    {
     "data": {
      "text/plain": [
       "(30, 10)"
      ]
     },
     "execution_count": 86,
     "metadata": {},
     "output_type": "execute_result"
    }
   ],
   "source": [
    "a=10\n",
    "b=30\n",
    "a=a+b\n",
    "b=a-b\n",
    "a=a-b\n",
    "a,b"
   ]
  },
  {
   "cell_type": "code",
   "execution_count": 87,
   "metadata": {},
   "outputs": [
    {
     "data": {
      "text/plain": [
       "(30, 10)"
      ]
     },
     "execution_count": 87,
     "metadata": {},
     "output_type": "execute_result"
    }
   ],
   "source": [
    "a,b=10,30\n",
    "a,b=b,a\n",
    "a,b"
   ]
  },
  {
   "cell_type": "code",
   "execution_count": 89,
   "metadata": {},
   "outputs": [
    {
     "name": "stdout",
     "output_type": "stream",
     "text": [
      "19  is bigger\n"
     ]
    }
   ],
   "source": [
    "#if elif\n",
    "#find grater number \n",
    "a=10\n",
    "b=5\n",
    "c=19\n",
    "if a>b and a>c:\n",
    "    print(a,\" is bigger\")\n",
    "elif b>c:\n",
    "    print(b,\" is bigger\")\n",
    "else:\n",
    "    print(c,\" is bigger\")"
   ]
  },
  {
   "cell_type": "code",
   "execution_count": null,
   "metadata": {},
   "outputs": [],
   "source": [
    "#Task-5:if temperature 20 it is 'cool' or if above \n",
    "    #tem 20 it is 'moderate' if above 30 it is 'hot'\n",
    "#Task -6:Check if given year is LEAP year or not\n",
    "    #1900 ->non leapyear \n",
    "    #2000 ->Leap year\n",
    "    #1999 ->\n",
    "    #2020 ->\n",
    "    #400  ->\n"
   ]
  },
  {
   "cell_type": "code",
   "execution_count": 100,
   "metadata": {},
   "outputs": [
    {
     "name": "stdout",
     "output_type": "stream",
     "text": [
      "Enter the year : 2012\n",
      "Leap year\n"
     ]
    }
   ],
   "source": [
    "n=int(input(\"Enter the year : \"))\n",
    "if n%400==0 or (n%100!=0 and n%4==0):\n",
    "    print(\"Leap year\")\n",
    "else:\n",
    "    print(\"Non Leap year\")"
   ]
  },
  {
   "cell_type": "markdown",
   "metadata": {},
   "source": [
    "## For Loop"
   ]
  },
  {
   "cell_type": "code",
   "execution_count": 101,
   "metadata": {},
   "outputs": [
    {
     "data": {
      "text/plain": [
       "range(1, 100)"
      ]
     },
     "execution_count": 101,
     "metadata": {},
     "output_type": "execute_result"
    }
   ],
   "source": [
    "range(1,100)"
   ]
  },
  {
   "cell_type": "code",
   "execution_count": 112,
   "metadata": {},
   "outputs": [
    {
     "name": "stdout",
     "output_type": "stream",
     "text": [
      "1,2,3,4,5,6,7,8,9,10,"
     ]
    }
   ],
   "source": [
    "# for(in..;condistion:incre..or dec){\n",
    "    #....##body of statements\n",
    "# }\n",
    "#generate first 10 natural numbers\n",
    "b=11\n",
    "a=1\n",
    "for number in range(a,b):\n",
    "    print(number,end=',')\n"
   ]
  },
  {
   "cell_type": "code",
   "execution_count": 131,
   "metadata": {},
   "outputs": [
    {
     "name": "stdout",
     "output_type": "stream",
     "text": [
      "1 ---> 0\n",
      "2 ---> 2\n",
      "3 ---> 4\n",
      "4 ---> 6\n",
      "5 ---> 8\n",
      "6 ---> 10\n",
      "7 ---> 12\n",
      "8 ---> 14\n",
      "9 ---> 16\n",
      "10 ---> 18\n",
      "11 ---> 20\n",
      "Total Count is : 11\n"
     ]
    }
   ],
   "source": [
    "count=0\n",
    "for i in range(0,21,2):\n",
    "    count=count+1\n",
    "    print(count,\"--->\",i)\n",
    "    \n",
    "print(\"Total Count is :\",count)"
   ]
  },
  {
   "cell_type": "code",
   "execution_count": 122,
   "metadata": {},
   "outputs": [
    {
     "name": "stdout",
     "output_type": "stream",
     "text": [
      "5 10 15 20 25 30 35 40 45 50 55 60 65 70 75 80 85 90 95 100 105 110 115 120 125 130 135 140 145 150 155 160 165 170 175 180 185 190 195 200 205 210 215 220 225 230 235 240 245 250 255 260 265 270 275 280 285 290 295 300 305 310 315 320 325 330 335 340 345 350 355 360 365 370 375 380 385 390 395 400 405 410 415 420 425 430 435 440 445 450 455 460 465 470 475 480 485 490 495 500 505 510 515 520 525 530 535 540 545 550 555 560 565 570 575 580 585 590 595 600 605 610 615 620 625 630 635 640 645 650 655 660 665 670 675 680 685 690 695 700 705 710 715 720 725 730 735 740 745 750 755 760 765 770 775 780 785 790 795 800 805 810 815 820 825 830 835 840 845 850 855 860 865 870 875 880 885 890 895 900 905 910 915 920 925 930 935 940 945 950 955 960 965 970 975 980 985 990 995 1000 "
     ]
    }
   ],
   "source": [
    "#Generate the all factors of 5 which range is (1,1001)\n",
    "for i in range(1,1001):\n",
    "    if i%5==0:\n",
    "        print(i,end=' ')"
   ]
  },
  {
   "cell_type": "code",
   "execution_count": 126,
   "metadata": {},
   "outputs": [
    {
     "name": "stdout",
     "output_type": "stream",
     "text": [
      "1904    1908    1912    1916    1920    1924    1928    1932    1936    1940    1944    1948    1952    1956    1960    1964    1968    1972    1976    1980    1984    1988    1992    1996    2000    2004    2008    2012    2016    2020    "
     ]
    }
   ],
   "source": [
    "#List out the all leap years in given range\n",
    "#1900-2020\n",
    "for year in range(1900,2021):\n",
    "    if year%400==0 or (year%100!=0 and year%4==0):\n",
    "        print(year,end='    ')"
   ]
  },
  {
   "cell_type": "code",
   "execution_count": null,
   "metadata": {},
   "outputs": [],
   "source": [
    "#TAsks\n",
    "#Check if given number is Prime number or not\n",
    "#Check if given number is with in range or not"
   ]
  },
  {
   "cell_type": "code",
   "execution_count": 10,
   "metadata": {},
   "outputs": [
    {
     "name": "stdout",
     "output_type": "stream",
     "text": [
      "6\n",
      "4\n",
      "1\n",
      "1234\n",
      "10\n"
     ]
    }
   ],
   "source": [
    "while True:\n",
    "    n=int(input())\n",
    "    if n==10:\n",
    "        break\n",
    "       \n",
    "        \n",
    "        "
   ]
  },
  {
   "cell_type": "markdown",
   "metadata": {},
   "source": [
    "## Functions in python\n",
    "* It contains set of statements\n",
    "* in python 'def' for defining a funtion\n",
    "* It code reusablity\n",
    "* It is reprasented by curly braces like ()\n",
    "* Types of funtions are four\n",
    "    - funtion with arg[] with return value\n",
    "    - funtion with arg[] with out return value\n",
    "    - funtion with out arg[] with return value\n",
    "    - funtion with out arg[] with out return value"
   ]
  },
  {
   "cell_type": "code",
   "execution_count": 20,
   "metadata": {},
   "outputs": [
    {
     "name": "stdout",
     "output_type": "stream",
     "text": [
      "6\n"
     ]
    },
    {
     "data": {
      "text/plain": [
       "4"
      ]
     },
     "execution_count": 20,
     "metadata": {},
     "output_type": "execute_result"
    }
   ],
   "source": [
    "\n",
    "  #funtion with out arg[] with out return value\n",
    "#         def function_name():\n",
    "#             ......\n",
    "#             ......\n",
    "#             Body of statements\n",
    "#         function_name()\n",
    "\n",
    "#funtion to create additon opartion\n",
    "def addtion1():\n",
    "    a=2\n",
    "    b=4\n",
    "    print(a+b)\n",
    "addtion1()\n",
    "#funtion with out arg[] with return value\n",
    "def substration():\n",
    "    a=6\n",
    "    b=2\n",
    "    return a-b\n",
    "substration()\n",
    "\n"
   ]
  },
  {
   "cell_type": "code",
   "execution_count": 16,
   "metadata": {},
   "outputs": [
    {
     "name": "stdout",
     "output_type": "stream",
     "text": [
      "Enter the a value6\n",
      "Enter the a value3\n",
      "18\n"
     ]
    }
   ],
   "source": [
    "#funtion with arg[] with out return value\n",
    "def muliplication(a,b):\n",
    "    print(a*b)\n",
    "a=int(input(\"Enter the a value\"))\n",
    "b=int(input(\"Enter the a value\"))\n",
    "muliplication(a,b)"
   ]
  },
  {
   "cell_type": "code",
   "execution_count": 18,
   "metadata": {},
   "outputs": [
    {
     "name": "stdout",
     "output_type": "stream",
     "text": [
      "Enter the a value6\n",
      "Enter the a value2\n"
     ]
    },
    {
     "data": {
      "text/plain": [
       "3"
      ]
     },
     "execution_count": 18,
     "metadata": {},
     "output_type": "execute_result"
    }
   ],
   "source": [
    "#funtion with arg[] with return value\n",
    "def division(a,b):\n",
    "    return a//b\n",
    "a=int(input(\"Enter the a value\"))\n",
    "b=int(input(\"Enter the a value\"))\n",
    "division(a,b)"
   ]
  },
  {
   "cell_type": "markdown",
   "metadata": {},
   "source": [
    "### Task : Funtion to create a Calculator App\n",
    "- user input is 1:-->additon\n",
    "- user input is 2:-->substration\n",
    "- user input is 3:-->Muliplication\n",
    "- user input is 4:-->Division/Floor value\n",
    "- user input is 5:-->power of the two value\n",
    "- user input is 6:-->Exit \n",
    "    "
   ]
  },
  {
   "cell_type": "code",
   "execution_count": 22,
   "metadata": {},
   "outputs": [
    {
     "data": {
      "text/plain": [
       "5"
      ]
     },
     "execution_count": 22,
     "metadata": {},
     "output_type": "execute_result"
    }
   ],
   "source": [
    "#function for addtion\n",
    "def addition(a,b):\n",
    "    return a+b\n",
    "addition(2,3)"
   ]
  },
  {
   "cell_type": "code",
   "execution_count": 23,
   "metadata": {},
   "outputs": [
    {
     "data": {
      "text/plain": [
       "-1"
      ]
     },
     "execution_count": 23,
     "metadata": {},
     "output_type": "execute_result"
    }
   ],
   "source": [
    "#function for substration\n",
    "def substract(a,b):\n",
    "    return a-b\n",
    "substract(2,3)"
   ]
  },
  {
   "cell_type": "code",
   "execution_count": null,
   "metadata": {},
   "outputs": [],
   "source": [
    "#function for mul\n",
    "def multi(a,b):\n",
    "    return a*b\n",
    "multi(2,3)"
   ]
  },
  {
   "cell_type": "code",
   "execution_count": 30,
   "metadata": {},
   "outputs": [
    {
     "data": {
      "text/plain": [
       "0.6666666666666666"
      ]
     },
     "execution_count": 30,
     "metadata": {},
     "output_type": "execute_result"
    }
   ],
   "source": [
    "#function for divis\n",
    "def div(a,b):\n",
    "    return a/b\n",
    "div(2,3)"
   ]
  },
  {
   "cell_type": "code",
   "execution_count": 26,
   "metadata": {},
   "outputs": [
    {
     "data": {
      "text/plain": [
       "8"
      ]
     },
     "execution_count": 26,
     "metadata": {},
     "output_type": "execute_result"
    }
   ],
   "source": [
    "#function for power\n",
    "def power(a,b):\n",
    "    return a**b\n",
    "power(2,3)"
   ]
  },
  {
   "cell_type": "code",
   "execution_count": 31,
   "metadata": {},
   "outputs": [
    {
     "name": "stdout",
     "output_type": "stream",
     "text": [
      "1.For Addition\n",
      "2.Substration\n",
      "3.divistion\n",
      "4.power\n",
      "5.Multi\n",
      "6.EXit\n",
      "The the choice..5\n",
      "Enter the first value for mul..3\n",
      "Enter the second value for mul..2\n",
      "6\n",
      "1.For Addition\n",
      "2.Substration\n",
      "3.divistion\n",
      "4.power\n",
      "5.Multi\n",
      "6.EXit\n",
      "The the choice..6\n"
     ]
    },
    {
     "data": {
      "text/plain": [
       "True"
      ]
     },
     "execution_count": 31,
     "metadata": {},
     "output_type": "execute_result"
    }
   ],
   "source": [
    "def calculatorApp():\n",
    "    while True:\n",
    "        print(\"1.For Addition\")\n",
    "        print(\"2.Substration\")\n",
    "        print(\"3.divistion\")\n",
    "        print(\"4.power\")\n",
    "        print(\"5.Multi\")\n",
    "        print(\"6.EXit\")\n",
    "        userChoice=int(input(\"The the choice..\"))\n",
    "        if userChoice==1:\n",
    "            value1=int(input(\"Enter the first value for addition..\"))\n",
    "            value2=int(input(\"Enter the second value for addition..\"))\n",
    "            addition(value1,value2)\n",
    "        elif userChoice==2:\n",
    "            value1=int(input(\"Enter the first value for subtract..\"))\n",
    "            value2=int(input(\"Enter the second value for subtract..\"))\n",
    "            substract(value1,value2)\n",
    "        elif userChoice==3:\n",
    "            value1=int(input(\"Enter the first value for div..\"))\n",
    "            value2=int(input(\"Enter the second value for div..\"))\n",
    "            div(value1,value2)\n",
    "        elif userChoice==4:\n",
    "            value1=int(input(\"Enter the first value for power..\"))\n",
    "            value2=int(input(\"Enter the second value for power..\"))\n",
    "            power(value1,value2)\n",
    "        elif userChoice==5:\n",
    "            value1=int(input(\"Enter the first value for mul..\"))\n",
    "            value2=int(input(\"Enter the second value for mul..\"))\n",
    "            muliplication(value1,value2)\n",
    "        elif userChoice==6:\n",
    "            return True\n",
    "calculatorApp()\n",
    "           \n",
    "        "
   ]
  },
  {
   "cell_type": "markdown",
   "metadata": {},
   "source": [
    "## Strings\n"
   ]
  },
  {
   "cell_type": "code",
   "execution_count": 57,
   "metadata": {},
   "outputs": [
    {
     "name": "stdout",
     "output_type": "stream",
     "text": [
      "Apssdc\n",
      "A\n",
      "p\n",
      "s\n",
      "s\n",
      "d\n",
      "c\n"
     ]
    }
   ],
   "source": [
    "s='Apssdc'\n",
    "print(s)\n",
    "s.islower()\n",
    "s.swapcase()\n",
    "s[::-1]\n",
    "for i in s:\n",
    "    print(i)"
   ]
  },
  {
   "cell_type": "code",
   "execution_count": 45,
   "metadata": {},
   "outputs": [
    {
     "name": "stdout",
     "output_type": "stream",
     "text": [
      "dc\n",
      "\n"
     ]
    }
   ],
   "source": [
    "s\n",
    "print(s[4:6])\n"
   ]
  },
  {
   "cell_type": "code",
   "execution_count": 35,
   "metadata": {},
   "outputs": [
    {
     "data": {
      "text/plain": [
       "6"
      ]
     },
     "execution_count": 35,
     "metadata": {},
     "output_type": "execute_result"
    }
   ],
   "source": [
    "len(s)"
   ]
  },
  {
   "cell_type": "code",
   "execution_count": 38,
   "metadata": {},
   "outputs": [
    {
     "data": {
      "text/plain": [
       "0"
      ]
     },
     "execution_count": 38,
     "metadata": {},
     "output_type": "execute_result"
    }
   ],
   "source": [
    "s.count('S')"
   ]
  },
  {
   "cell_type": "code",
   "execution_count": null,
   "metadata": {},
   "outputs": [],
   "source": []
  }
 ],
 "metadata": {
  "kernelspec": {
   "display_name": "Python 3",
   "language": "python",
   "name": "python3"
  },
  "language_info": {
   "codemirror_mode": {
    "name": "ipython",
    "version": 3
   },
   "file_extension": ".py",
   "mimetype": "text/x-python",
   "name": "python",
   "nbconvert_exporter": "python",
   "pygments_lexer": "ipython3",
   "version": "3.7.3"
  }
 },
 "nbformat": 4,
 "nbformat_minor": 2
}
